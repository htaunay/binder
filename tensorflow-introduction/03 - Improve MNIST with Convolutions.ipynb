{
 "cells": [
  {
   "cell_type": "code",
   "execution_count": 3,
   "metadata": {},
   "outputs": [],
   "source": [
    "!pip3 install setuptools\n",
    "!pip3 install wheel\n",
    "!pip3 install tensorflow\n",
    "!pip3 install \"numpy<1.17\""
   ]
  },
  {
   "cell_type": "code",
   "execution_count": null,
   "metadata": {},
   "outputs": [],
   "source": [
    "import tensorflow as tf\n",
    "from os import path, getcwd, chdir\n",
    "\n",
    "# DO NOT CHANGE THE LINE BELOW. If you are developing in a local\n",
    "# environment, then grab mnist.npz from the Coursera Jupyter Notebook\n",
    "# and place it inside a local folder and edit the path to that location\n",
    "path = f\"{getcwd()}/mnist.npz\""
   ]
  },
  {
   "cell_type": "code",
   "execution_count": 4,
   "metadata": {},
   "outputs": [],
   "source": [
    "config = tf.ConfigProto()\n",
    "config.gpu_options.allow_growth = True\n",
    "sess = tf.Session(config=config)"
   ]
  },
  {
   "cell_type": "code",
   "execution_count": 5,
   "metadata": {},
   "outputs": [],
   "source": [
    "# GRADED FUNCTION: train_mnist_conv\n",
    "def train_mnist_conv():\n",
    "    # Please write your code only where you are indicated.\n",
    "    # please do not remove model fitting inline comments.\n",
    "\n",
    "    # YOUR CODE STARTS HERE\n",
    "    class TrainCallback(tf.keras.callbacks.Callback):\n",
    "        def on_epoch_end(self,epoch,logs={}):\n",
    "            if(logs.get('acc') >= 0.998):\n",
    "                print(\"Reached 99.8% accuracy so cancelling training!\")\n",
    "                self.model.stop_training=True\n",
    "\n",
    "    callback = TrainCallback()\n",
    "    # YOUR CODE ENDS HERE\n",
    "\n",
    "    mnist = tf.keras.datasets.mnist\n",
    "    (training_images, training_labels), (test_images, test_labels) = mnist.load_data(path=path)\n",
    "    # YOUR CODE STARTS HERE\n",
    "    \n",
    "    training_images = training_images.reshape(60000,28,28,1)\n",
    "    training_images = training_images / 255\n",
    "    \n",
    "    test_images = test_images.reshape(10000,28,28,1)\n",
    "    test_images = test_labels / 255\n",
    "\n",
    "    # YOUR CODE ENDS HERE\n",
    "\n",
    "    model = tf.keras.models.Sequential([\n",
    "        # YOUR CODE STARTS HERE\n",
    "        \n",
    "        # Apply 64 different filters of size 3x3, pre-defined by keras\n",
    "        # 'relu' = ignore negative values\n",
    "        # inputs are images with 28x28px and in black andf white, i.e. 1 byte\n",
    "        tf.keras.layers.Conv2D(64, (3,3), activation=\"relu\", input_shape = (28,28,1)),\n",
    "        # Pick thee highest of the 2x2px\n",
    "        tf.keras.layers.MaxPooling2D(2,2),\n",
    "        # Apply 64 different filters for size 3x3, pre-defined by keras\n",
    "        # 'relu' = ignore negative values\n",
    "        tf.keras.layers.Conv2D(64, (3,3), activation=\"relu\"),\n",
    "        # Pick thee highest of the 2x2px\n",
    "        tf.keras.layers.MaxPooling2D(2,2),\n",
    "        # Transofrm matrix into a single column\n",
    "        tf.keras.layers.Flatten(),\n",
    "        tf.keras.layers.Dense(128, activation=\"relu\"),\n",
    "        tf.keras.layers.Dense(10, activation=\"softmax\"),\n",
    "        # YOUR CODE ENDS HERE\n",
    "    ])\n",
    "    \n",
    "    model.summary()\n",
    "\n",
    "    model.compile(optimizer='adam', loss='sparse_categorical_crossentropy', metrics=['accuracy'])\n",
    "    # model fitting\n",
    "    history = model.fit(\n",
    "        # YOUR CODE STARTS HERE\n",
    "        training_images, training_labels, epochs=20, callbacks=[callback]\n",
    "        # YOUR CODE ENDS HERE\n",
    "    )\n",
    "    # model fitting\n",
    "    return history.epoch, history.history['acc'][-1]"
   ]
  },
  {
   "cell_type": "code",
   "execution_count": 6,
   "metadata": {},
   "outputs": [
    {
     "name": "stdout",
     "output_type": "stream",
     "text": [
      "WARNING:tensorflow:From /home/htaunay/venvs/notebooks/lib/python3.6/site-packages/tensorflow/python/ops/init_ops.py:1251: calling VarianceScaling.__init__ (from tensorflow.python.ops.init_ops) with dtype is deprecated and will be removed in a future version.\n",
      "Instructions for updating:\n",
      "Call initializer instance with the dtype argument instead of passing it to the constructor\n",
      "Model: \"sequential\"\n",
      "_________________________________________________________________\n",
      "Layer (type)                 Output Shape              Param #   \n",
      "=================================================================\n",
      "conv2d (Conv2D)              (None, 26, 26, 64)        640       \n",
      "_________________________________________________________________\n",
      "max_pooling2d (MaxPooling2D) (None, 13, 13, 64)        0         \n",
      "_________________________________________________________________\n",
      "conv2d_1 (Conv2D)            (None, 11, 11, 64)        36928     \n",
      "_________________________________________________________________\n",
      "max_pooling2d_1 (MaxPooling2 (None, 5, 5, 64)          0         \n",
      "_________________________________________________________________\n",
      "flatten (Flatten)            (None, 1600)              0         \n",
      "_________________________________________________________________\n",
      "dense (Dense)                (None, 128)               204928    \n",
      "_________________________________________________________________\n",
      "dense_1 (Dense)              (None, 10)                1290      \n",
      "=================================================================\n",
      "Total params: 243,786\n",
      "Trainable params: 243,786\n",
      "Non-trainable params: 0\n",
      "_________________________________________________________________\n",
      "Epoch 1/20\n",
      "60000/60000 [==============================] - 31s 523us/sample - loss: 0.1243 - acc: 0.9621\n",
      "Epoch 2/20\n",
      "60000/60000 [==============================] - 31s 509us/sample - loss: 0.0415 - acc: 0.9874\n",
      "Epoch 3/20\n",
      "60000/60000 [==============================] - 33s 553us/sample - loss: 0.0273 - acc: 0.9912\n",
      "Epoch 4/20\n",
      "60000/60000 [==============================] - 36s 593us/sample - loss: 0.0197 - acc: 0.9941\n",
      "Epoch 5/20\n",
      "60000/60000 [==============================] - 34s 572us/sample - loss: 0.0146 - acc: 0.9957\n",
      "Epoch 6/20\n",
      "60000/60000 [==============================] - 38s 628us/sample - loss: 0.0115 - acc: 0.9962\n",
      "Epoch 7/20\n",
      "60000/60000 [==============================] - 37s 617us/sample - loss: 0.0096 - acc: 0.9967\n",
      "Epoch 8/20\n",
      "60000/60000 [==============================] - 37s 622us/sample - loss: 0.0088 - acc: 0.9969\n",
      "Epoch 9/20\n",
      "60000/60000 [==============================] - 38s 630us/sample - loss: 0.0079 - acc: 0.9975\n",
      "Epoch 10/20\n",
      "59936/60000 [============================>.] - ETA: 0s - loss: 0.0049 - acc: 0.9984Reached 99.8% accuracy so cancelling training!\n",
      "60000/60000 [==============================] - 39s 658us/sample - loss: 0.0049 - acc: 0.9984\n"
     ]
    }
   ],
   "source": [
    "_, _ = train_mnist_conv()"
   ]
  },
  {
   "cell_type": "code",
   "execution_count": null,
   "metadata": {},
   "outputs": [],
   "source": []
  }
 ],
 "metadata": {
  "kernelspec": {
   "display_name": "Python 3",
   "language": "python",
   "name": "python3"
  },
  "language_info": {
   "codemirror_mode": {
    "name": "ipython",
    "version": 3
   },
   "file_extension": ".py",
   "mimetype": "text/x-python",
   "name": "python",
   "nbconvert_exporter": "python",
   "pygments_lexer": "ipython3",
   "version": "3.6.8"
  }
 },
 "nbformat": 4,
 "nbformat_minor": 2
}
